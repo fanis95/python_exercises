{
 "cells": [
  {
   "cell_type": "code",
   "execution_count": 15,
   "id": "b447dc7f",
   "metadata": {},
   "outputs": [
    {
     "name": "stdout",
     "output_type": "stream",
     "text": [
      "Enter letter: a+\n",
      "The grade point of A+ is: 5\n"
     ]
    }
   ],
   "source": [
    "# dictionary me ta leeter kai ta grade points apo ta dedomena ths askhshs\n",
    "grade_points = {\n",
    "    'A+': 5,\n",
    "    'A': 4,\n",
    "    'A-': 3.7,\n",
    "    'B+': 3.3,\n",
    "    'B': 3,\n",
    "    'B-': 2.7,\n",
    "    'C+': 2.3,\n",
    "    'C': 2,\n",
    "    'C-': 1.7,\n",
    "    'D+': 1.3,\n",
    "    'D': 1,\n",
    "    'F': 0\n",
    "}\n",
    "\n",
    "\n",
    "def equiv(letter):\n",
    "    \n",
    "    # kanw kefalaio to gramma se periptwsh p o xrhsths eisagei mikro\n",
    "    letter = letter.upper()\n",
    "    \n",
    "    # an uparxei to gramma sto dictionary epistrefw thn antistoixh vathmologia\n",
    "    if letter in grade_points:\n",
    "        return \"The grade point of \" + letter + \" is: \" + str(grade_points[letter])\n",
    "    \n",
    "    # an den uparxei emfanizw mhnuma lathous\n",
    "    else:\n",
    "        return \"there is no grade point equivelant to \" + letter\n",
    "\n",
    "\n",
    "letter = input(\"Enter letter: \")\n",
    "print(equiv(letter))"
   ]
  },
  {
   "cell_type": "code",
   "execution_count": null,
   "id": "d30f5f34",
   "metadata": {},
   "outputs": [],
   "source": []
  },
  {
   "cell_type": "code",
   "execution_count": null,
   "id": "2d8e05c0",
   "metadata": {},
   "outputs": [],
   "source": []
  }
 ],
 "metadata": {
  "kernelspec": {
   "display_name": "Python 3 (ipykernel)",
   "language": "python",
   "name": "python3"
  },
  "language_info": {
   "codemirror_mode": {
    "name": "ipython",
    "version": 3
   },
   "file_extension": ".py",
   "mimetype": "text/x-python",
   "name": "python",
   "nbconvert_exporter": "python",
   "pygments_lexer": "ipython3",
   "version": "3.10.3"
  }
 },
 "nbformat": 4,
 "nbformat_minor": 5
}
