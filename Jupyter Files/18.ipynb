{
 "cells": [
  {
   "cell_type": "code",
   "execution_count": 7,
   "id": "a08091ca",
   "metadata": {},
   "outputs": [
    {
     "name": "stdout",
     "output_type": "stream",
     "text": [
      "Give first integer: 10\n",
      "Give second integer: 5\n",
      "sum: 15\n",
      "difference when b is subtracted from a: -5\n",
      "product of a and b: 50\n",
      "quotient when a is divided by b: 2\n",
      "remainder when a is divided by b: 0\n",
      "result of log10a: 1.0\n",
      "result of ab: 105\n"
     ]
    }
   ],
   "source": [
    "import math\n",
    "\n",
    "a = int(input(\"Give first integer: \"))\n",
    "b = int(input(\"Give second integer: \"))\n",
    "c = [a,b]\n",
    "\n",
    "print(\"sum: \" + str(a+b))\n",
    "print(\"difference when b is subtracted from a: \" + str(b-a))\n",
    "print(\"product of a and b: \" + str(a*b))\n",
    "print(\"quotient when a is divided by b: \" + str(int(a/b)))\n",
    "print(\"remainder when a is divided by b: \" + str(a%b))\n",
    "\n",
    "# sunarthsh apo thn vivliothiki math gia ton upologismo tou log10 a \n",
    "print(\"result of log10a: \" + str(math.log10(a)))\n",
    "\n",
    "print(\"result of ab: \" + str(int(str(a) + str(b))))\n",
    "\n"
   ]
  },
  {
   "cell_type": "code",
   "execution_count": null,
   "id": "6324ac2b",
   "metadata": {},
   "outputs": [],
   "source": []
  },
  {
   "cell_type": "code",
   "execution_count": null,
   "id": "b81fcf7a",
   "metadata": {},
   "outputs": [],
   "source": []
  }
 ],
 "metadata": {
  "kernelspec": {
   "display_name": "Python 3 (ipykernel)",
   "language": "python",
   "name": "python3"
  },
  "language_info": {
   "codemirror_mode": {
    "name": "ipython",
    "version": 3
   },
   "file_extension": ".py",
   "mimetype": "text/x-python",
   "name": "python",
   "nbconvert_exporter": "python",
   "pygments_lexer": "ipython3",
   "version": "3.10.3"
  }
 },
 "nbformat": 4,
 "nbformat_minor": 5
}
