{
 "cells": [
  {
   "cell_type": "code",
   "execution_count": 30,
   "id": "15343b96",
   "metadata": {},
   "outputs": [
    {
     "name": "stdout",
     "output_type": "stream",
     "text": [
      "Give integer: 26\n",
      "Give integer: 24\n",
      "Give integer: 109\n",
      "Give integer: 654\n",
      "Give integer: 52\n",
      "Give integer: 0\n",
      "sorted list: \n",
      "24\n",
      "26\n",
      "52\n",
      "109\n",
      "654\n"
     ]
    }
   ],
   "source": [
    "# eisagei ton prwto arithmo o xrhsths\n",
    "num = input(\"Give integer: \")\n",
    "\n",
    "# prosthetoume ton prwto arithmo pou edwse o xrhsths kai ton metatrepoume se int\n",
    "lista = [int(num)]\n",
    "\n",
    "# oso o xrhsths den vazei 0 \n",
    "while num != '0':\n",
    "    num = input(\"Give integer: \")\n",
    "    \n",
    "    # an o xrhsths den edwse 0, vazoume ton arithmo sthn lista\n",
    "    if num != '0':\n",
    "        lista.append(int(num))\n",
    "        \n",
    "lista_sorted = sorted(lista)\n",
    "print(\"sorted list: \")\n",
    "\n",
    "# emfanizw to sorted list ana seira\n",
    "for i in range(0,len(lista_sorted)):\n",
    "    print(lista_sorted[i])\n",
    "    "
   ]
  },
  {
   "cell_type": "code",
   "execution_count": null,
   "id": "42089113",
   "metadata": {},
   "outputs": [],
   "source": []
  },
  {
   "cell_type": "code",
   "execution_count": null,
   "id": "3d5784a4",
   "metadata": {},
   "outputs": [],
   "source": []
  }
 ],
 "metadata": {
  "kernelspec": {
   "display_name": "Python 3 (ipykernel)",
   "language": "python",
   "name": "python3"
  },
  "language_info": {
   "codemirror_mode": {
    "name": "ipython",
    "version": 3
   },
   "file_extension": ".py",
   "mimetype": "text/x-python",
   "name": "python",
   "nbconvert_exporter": "python",
   "pygments_lexer": "ipython3",
   "version": "3.10.3"
  }
 },
 "nbformat": 4,
 "nbformat_minor": 5
}
