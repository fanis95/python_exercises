{
 "cells": [
  {
   "cell_type": "code",
   "execution_count": null,
   "id": "c1a1685b",
   "metadata": {},
   "outputs": [],
   "source": [
    "# to dictionary poy zhtaei h askhsh\n",
    "symbol_conv = {\n",
    "    \"1\": \".,?!:\",\n",
    "    \"2\": \"ABC\",\n",
    "    \"3\": \"DEF\",\n",
    "    \"4\": \"GHI\",\n",
    "    \"5\": \"JKL\",\n",
    "    \"6\": \"MNO\",\n",
    "    \"7\": \"PQRS\",\n",
    "    \"8\": \"TUV\",\n",
    "    \"9\": \"WXYZ\",\n",
    "    \"0\": \" \"\n",
    "    \n",
    "}\n",
    "\n",
    "# user's message\n",
    "\n",
    "phrase = input(\"Enter your message: \")\n",
    "print(phrase)\n"
   ]
  },
  {
   "cell_type": "code",
   "execution_count": 9,
   "id": "3c13ef8c",
   "metadata": {},
   "outputs": [
    {
     "name": "stdout",
     "output_type": "stream",
     "text": [
      "Enter your message: Hello, World!\n",
      "4355610967531\n"
     ]
    }
   ],
   "source": [
    "# to dictionary poy zhtaei h askhsh\n",
    "symbol_conv = {\n",
    "    \"1\": \".,?!:\",\n",
    "    \"2\": \"ABC\",\n",
    "    \"3\": \"DEF\",\n",
    "    \"4\": \"GHI\",\n",
    "    \"5\": \"JKL\",\n",
    "    \"6\": \"MNO\",\n",
    "    \"7\": \"PQRS\",\n",
    "    \"8\": \"TUV\",\n",
    "    \"9\": \"WXYZ\",\n",
    "    \"0\": \" \"\n",
    "\n",
    "}\n",
    "\n",
    "\n",
    "# sunarthsh gia thn metatroph tou mhnumatos tou xrhsth\n",
    "def key_needed(phrase):\n",
    "    keys = \"\"\n",
    "    # tha dokimasw na epistrefei apla to antistoixo key se kathe value xwris na exw prosthesei thn epanalipsimothta twm keys\n",
    "    # gia kathe gramma apo to mhnyma tou xrhsth\n",
    "    for letter in phrase:\n",
    "        i = 0\n",
    "        found = False\n",
    "        # an den exei vrethei to key (dhladh found = false) kai i < 10 ara den uparxoun kleidia na psaksoume\n",
    "        while not found and i < 10:\n",
    "            # metatrepoume to gramma se kefalaio kai elegxoume an uparxei sto dictionary\n",
    "            if letter.upper() in symbol_conv.get(str(i)):\n",
    "                found = True\n",
    "                keys += str(i)\n",
    "            i += 1\n",
    "\n",
    "    return keys\n",
    "\n",
    "\n",
    "# user's message\n",
    "print(key_needed(input(\"Enter your message: \")))\n",
    "\n",
    "\n",
    "\n"
   ]
  },
  {
   "cell_type": "code",
   "execution_count": 11,
   "id": "470ee7d0",
   "metadata": {},
   "outputs": [
    {
     "name": "stdout",
     "output_type": "stream",
     "text": [
      "Enter your message: Hello, World!\n",
      "4433555555666110966677755531111\n"
     ]
    }
   ],
   "source": [
    "# to dictionary poy zhtaei h askhsh\n",
    "symbol_conv = {\n",
    "    \"1\": \".,?!:\",\n",
    "    \"2\": \"ABC\",\n",
    "    \"3\": \"DEF\",\n",
    "    \"4\": \"GHI\",\n",
    "    \"5\": \"JKL\",\n",
    "    \"6\": \"MNO\",\n",
    "    \"7\": \"PQRS\",\n",
    "    \"8\": \"TUV\",\n",
    "    \"9\": \"WXYZ\",\n",
    "    \"0\": \" \"\n",
    "\n",
    "}\n",
    "\n",
    "\n",
    "# sunarthsh gia thn metatroph tou mhnumatos tou xrhsth\n",
    "def key_needed(phrase):\n",
    "    # edw tha valoume ta presses pou xreiazontai\n",
    "    keys = \"\"\n",
    "\n",
    "    # tha dokimasw na epistrefei apla to antistoixo key se kathe value xwris na exw prosthesei thn epanalipsimothta twm keys\n",
    "    # gia kathe gramma apo to mhnyma tou xrhsth\n",
    "    for letter in phrase:\n",
    "        i = 0\n",
    "        found = False\n",
    "\n",
    "        # an den exei vrethei to key (dhladh found = false) kai i < 10 ara den uparxoun kleidia na psaksoume\n",
    "        while not found and i < 10:\n",
    "            # metatrepoume to gramma se kefalaio kai elegxoume an uparxei sto dictionary\n",
    "            if letter.upper() in symbol_conv.get(str(i)):\n",
    "                found = True\n",
    "                # h metavliti thesis mas leei se poia thesh einai to gramma mesa sto string pou phrame apo to dictionary\n",
    "                thesis = symbol_conv.get(str(i)).find(letter.upper())\n",
    "                for j in range(0, thesis+1):\n",
    "                    keys += str(i)\n",
    "            i += 1\n",
    "\n",
    "    return keys\n",
    "\n",
    "\n",
    "# user's message\n",
    "print(key_needed(input(\"Enter your message: \")))\n",
    "\n",
    "\n",
    "\n"
   ]
  },
  {
   "cell_type": "code",
   "execution_count": null,
   "id": "19e35139",
   "metadata": {},
   "outputs": [],
   "source": []
  }
 ],
 "metadata": {
  "kernelspec": {
   "display_name": "Python 3 (ipykernel)",
   "language": "python",
   "name": "python3"
  },
  "language_info": {
   "codemirror_mode": {
    "name": "ipython",
    "version": 3
   },
   "file_extension": ".py",
   "mimetype": "text/x-python",
   "name": "python",
   "nbconvert_exporter": "python",
   "pygments_lexer": "ipython3",
   "version": "3.10.3"
  }
 },
 "nbformat": 4,
 "nbformat_minor": 5
}
