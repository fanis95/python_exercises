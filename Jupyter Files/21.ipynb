{
 "cells": [
  {
   "cell_type": "code",
   "execution_count": 6,
   "id": "18db5627",
   "metadata": {},
   "outputs": [
    {
     "name": "stdout",
     "output_type": "stream",
     "text": [
      "Enter b: 7\n",
      "Enter h: 5\n",
      "Area of triangle with b = 7.0 and h = 5.0 is: 17.5\n"
     ]
    }
   ],
   "source": [
    "# sinartisi gia ton upologismo tou area \n",
    "def area_of_triangle(b, h):\n",
    "    area = (b * h) / 2\n",
    "    return area\n",
    "\n",
    "\n",
    "b = float(input(\"Enter b: \"))\n",
    "h = float(input(\"Enter h: \"))\n",
    "print(\"Area of triangle with b = \" + str(b) + \" and h = \" + str(h) + \" is: \" + str(area_of_triangle(b, h)))"
   ]
  },
  {
   "cell_type": "code",
   "execution_count": null,
   "id": "1cf91721",
   "metadata": {},
   "outputs": [],
   "source": []
  }
 ],
 "metadata": {
  "kernelspec": {
   "display_name": "Python 3 (ipykernel)",
   "language": "python",
   "name": "python3"
  },
  "language_info": {
   "codemirror_mode": {
    "name": "ipython",
    "version": 3
   },
   "file_extension": ".py",
   "mimetype": "text/x-python",
   "name": "python",
   "nbconvert_exporter": "python",
   "pygments_lexer": "ipython3",
   "version": "3.10.3"
  }
 },
 "nbformat": 4,
 "nbformat_minor": 5
}
