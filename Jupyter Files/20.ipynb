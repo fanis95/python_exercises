{
 "cells": [
  {
   "cell_type": "code",
   "execution_count": 11,
   "id": "454ee168",
   "metadata": {},
   "outputs": [
    {
     "name": "stdout",
     "output_type": "stream",
     "text": [
      "Enter r: 3.6\n",
      "Area of circle with r = 3.6 is: 40.71504079052372\n",
      "Volume of sphere with r = 3.6 is: 109.93061013441405\n"
     ]
    }
   ],
   "source": [
    "import math\n",
    "\n",
    "# sinartisi gia ton upologismo tou area \n",
    "def area_of_circle(r):\n",
    "    area = math.pi * pow(r,2)\n",
    "    return area\n",
    "\n",
    "# sinartisi gia ton upologismo tou volume\n",
    "def volume_of_sphere(r):\n",
    "    volume = (math.pi * pow(r,3)) * 3/4\n",
    "    return volume\n",
    "\n",
    "r = float(input(\"Enter r: \"))\n",
    "print(\"Area of circle with r = \" + str(r) + \" is: \" + str(area_of_circle(r)))\n",
    "print(\"Volume of sphere with r = \" + str(r) + \" is: \" + str(volume_of_sphere(r)))"
   ]
  },
  {
   "cell_type": "code",
   "execution_count": null,
   "id": "c236cfad",
   "metadata": {},
   "outputs": [],
   "source": []
  }
 ],
 "metadata": {
  "kernelspec": {
   "display_name": "Python 3 (ipykernel)",
   "language": "python",
   "name": "python3"
  },
  "language_info": {
   "codemirror_mode": {
    "name": "ipython",
    "version": 3
   },
   "file_extension": ".py",
   "mimetype": "text/x-python",
   "name": "python",
   "nbconvert_exporter": "python",
   "pygments_lexer": "ipython3",
   "version": "3.10.3"
  }
 },
 "nbformat": 4,
 "nbformat_minor": 5
}
