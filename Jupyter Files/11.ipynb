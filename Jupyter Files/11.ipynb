{
 "cells": [
  {
   "cell_type": "code",
   "execution_count": 6,
   "id": "f08b48e3",
   "metadata": {},
   "outputs": [
    {
     "name": "stdout",
     "output_type": "stream",
     "text": [
      "True\n"
     ]
    }
   ],
   "source": [
    "def isSub_list(list_large, list_small):\n",
    "    \n",
    "    is_sub = False\n",
    "    \n",
    "    # an h mikrh lista einai ish me to keno, tote einai sub-list\n",
    "    if list_small == []:\n",
    "        is_sub = True\n",
    "    \n",
    "    # an h mikrh lista einai ish me thn megalh lista, tote pali einai sub-list\n",
    "    elif list_small == list_large:\n",
    "        is_sub = True\n",
    "    \n",
    "    # an to megethos ths mikrhs listas einai megalutero apo thn megalh lista, tote apokleiete na einai sub-list\n",
    "    elif len(list_small) > len(list_large):\n",
    "        is_sub = False\n",
    "        \n",
    "    # se kathe allh periptwsh prepei na kanoume tous antistoixous elegxous\n",
    "    else:\n",
    "        # gia kathe stoixeio sthn megalh lista tha elegxoume to kathe stoixeio ksexwrista\n",
    "        for i in range(len(list_large)):\n",
    "            # an to stoixeio pou elegxoume apo thn megalh lista isoute me to prwto stoixeio apo thn mikrh lista\n",
    "            if list_large[i] == list_small[0]:\n",
    "                k = 1\n",
    "                # oso h metavlhth \"k\" einai mikroterh apo to megethos ths mikrhs listas \n",
    "                # kai an kai ta epomena stoixeia stis duo listes einai isa\n",
    "                while k < len(list_small) and list_large[i+k] == list_small[k]:\n",
    "                    k += 1\n",
    "                # an h metavliti \"k\" isoutai me to megethos ths mikrhs listas, tote h mikrh lista einai sub-list  \n",
    "                if k == len(list_small):\n",
    "                    is_sub = True\n",
    "    \n",
    "    return is_sub\n",
    "    \n",
    "\n",
    "list_large = [2,6,9,13,17,45]\n",
    "list_small = [9,13,17]\n",
    "print(isSub_list(list_large, list_small))"
   ]
  },
  {
   "cell_type": "code",
   "execution_count": null,
   "id": "02709333",
   "metadata": {},
   "outputs": [],
   "source": []
  }
 ],
 "metadata": {
  "kernelspec": {
   "display_name": "Python 3 (ipykernel)",
   "language": "python",
   "name": "python3"
  },
  "language_info": {
   "codemirror_mode": {
    "name": "ipython",
    "version": 3
   },
   "file_extension": ".py",
   "mimetype": "text/x-python",
   "name": "python",
   "nbconvert_exporter": "python",
   "pygments_lexer": "ipython3",
   "version": "3.10.3"
  }
 },
 "nbformat": 4,
 "nbformat_minor": 5
}
