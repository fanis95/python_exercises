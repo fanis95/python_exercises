{
 "cells": [
  {
   "cell_type": "code",
   "execution_count": 3,
   "id": "80d2fbf5",
   "metadata": {},
   "outputs": [
    {
     "name": "stdout",
     "output_type": "stream",
     "text": [
      "Give first value: -3\n",
      "Give second value: -4\n",
      "Give third value: -2\n",
      "Median of these three values is: -3\n"
     ]
    }
   ],
   "source": [
    "import statistics\n",
    "\n",
    "def median_v(value1, value2, value3):\n",
    "    \n",
    "    # xrhsimopoioume thn sinartisi median apo thn vivliothiki statistics\n",
    "    return statistics.median([value1, value2, value3])\n",
    "    \n",
    "    \n",
    "\n",
    "value1 = input(\"Give first value: \")\n",
    "value2 = input(\"Give second value: \")\n",
    "value3 = input(\"Give third value: \")\n",
    "print(\"Median of these three values is: \" + str(median_v(value1, value2, value3)))"
   ]
  },
  {
   "cell_type": "code",
   "execution_count": null,
   "id": "3bf03f2d",
   "metadata": {},
   "outputs": [],
   "source": []
  }
 ],
 "metadata": {
  "kernelspec": {
   "display_name": "Python 3 (ipykernel)",
   "language": "python",
   "name": "python3"
  },
  "language_info": {
   "codemirror_mode": {
    "name": "ipython",
    "version": 3
   },
   "file_extension": ".py",
   "mimetype": "text/x-python",
   "name": "python",
   "nbconvert_exporter": "python",
   "pygments_lexer": "ipython3",
   "version": "3.10.3"
  }
 },
 "nbformat": 4,
 "nbformat_minor": 5
}
