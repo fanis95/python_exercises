{
 "cells": [
  {
   "cell_type": "code",
   "execution_count": 3,
   "id": "62ba82b1",
   "metadata": {},
   "outputs": [
    {
     "name": "stdout",
     "output_type": "stream",
     "text": [
      "Give integer: 26\n",
      "Give integer: 27\n",
      "Give integer: 109\n",
      "Give integer: 654\n",
      "Give integer: 82\n",
      "Give integer: 0\n",
      "sorted list: \n",
      "654\n",
      "109\n",
      "82\n",
      "27\n",
      "26\n"
     ]
    }
   ],
   "source": [
    "# kanw antigrafh olh thn askhsh 5, kai tha allaksw mia MONO metavlhth gia na ginei sorted h lista anapoda sthn grammh 17\n",
    "# eisagei ton prwto arithmo o xrhsths\n",
    "num = input(\"Give integer: \")\n",
    "\n",
    "# prosthetoume ton prwto arithmo pou edwse o xrhsths kai ton metatrepoume se int\n",
    "lista = [int(num)]\n",
    "\n",
    "# oso o xrhsths den vazei 0 \n",
    "while num != '0':\n",
    "    num = input(\"Give integer: \")\n",
    "    \n",
    "    # an o xrhsths den edwse 0, vazoume ton arithmo sthn lista\n",
    "    if num != '0':\n",
    "        lista.append(int(num))\n",
    "        \n",
    "# prosthetw mia epipleon parametro sthn sinarthsh sorted gia na ginei h lista sorted anapoda\n",
    "lista_sorted = sorted(lista, reverse = True)\n",
    "print(\"sorted list: \")\n",
    "\n",
    "# emfanizw to sorted list ana seira\n",
    "for i in range(0,len(lista_sorted)):\n",
    "    print(lista_sorted[i])\n",
    "    "
   ]
  },
  {
   "cell_type": "code",
   "execution_count": null,
   "id": "ae1531ca",
   "metadata": {},
   "outputs": [],
   "source": []
  }
 ],
 "metadata": {
  "kernelspec": {
   "display_name": "Python 3 (ipykernel)",
   "language": "python",
   "name": "python3"
  },
  "language_info": {
   "codemirror_mode": {
    "name": "ipython",
    "version": 3
   },
   "file_extension": ".py",
   "mimetype": "text/x-python",
   "name": "python",
   "nbconvert_exporter": "python",
   "pygments_lexer": "ipython3",
   "version": "3.10.3"
  }
 },
 "nbformat": 4,
 "nbformat_minor": 5
}
