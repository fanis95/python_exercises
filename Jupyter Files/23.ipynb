{
 "cells": [
  {
   "cell_type": "code",
   "execution_count": 2,
   "id": "f7842d17",
   "metadata": {},
   "outputs": [
    {
     "name": "stdout",
     "output_type": "stream",
     "text": [
      "Enter weight in kilograms: 80\n",
      "Enter height in meters: 1.82\n",
      "BMI is: 24.151672503320853\n"
     ]
    }
   ],
   "source": [
    "def BMI_com(weight, height):\n",
    "    \n",
    "    # o tupos tou bmi \n",
    "    bmi = weight / (height * height) \n",
    "    return bmi\n",
    "\n",
    "\n",
    "\n",
    "weight = float(input(\"Enter weight in kilograms: \"))\n",
    "height = float(input(\"Enter height in meters: \"))\n",
    "print(\"BMI is: \" + str(BMI_com(weight, height)))"
   ]
  },
  {
   "cell_type": "code",
   "execution_count": null,
   "id": "15cadc5c",
   "metadata": {},
   "outputs": [],
   "source": []
  }
 ],
 "metadata": {
  "kernelspec": {
   "display_name": "Python 3 (ipykernel)",
   "language": "python",
   "name": "python3"
  },
  "language_info": {
   "codemirror_mode": {
    "name": "ipython",
    "version": 3
   },
   "file_extension": ".py",
   "mimetype": "text/x-python",
   "name": "python",
   "nbconvert_exporter": "python",
   "pygments_lexer": "ipython3",
   "version": "3.10.3"
  }
 },
 "nbformat": 4,
 "nbformat_minor": 5
}
