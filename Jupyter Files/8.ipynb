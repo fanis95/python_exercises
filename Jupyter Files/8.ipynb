{
 "cells": [
  {
   "cell_type": "code",
   "execution_count": 10,
   "id": "e1991f67",
   "metadata": {},
   "outputs": [
    {
     "name": "stdout",
     "output_type": "stream",
     "text": [
      "Give number: -6\n",
      "Give number: 8\n",
      "Give number: 0\n",
      "Give number: 34\n",
      "Give number: -109\n",
      "Give number: 13\n",
      "Give number: 0\n",
      "Give number: -5\n",
      "Give number: 9\n",
      "Give number: \n",
      "[-6, 8, 0, 34, -109, 13, 0, -5, 9]\n",
      "values: \n",
      "-6\n",
      "-109\n",
      "-5\n",
      "0\n",
      "0\n",
      "8\n",
      "34\n",
      "13\n",
      "9\n"
     ]
    }
   ],
   "source": [
    "# prwth eisagwgh aithmou apo ton xrhsth\n",
    "num = input(\"Give number: \")\n",
    "# prosthetoume ton prwto arithmo sthn lista\n",
    "lista = [int(num)]\n",
    "\n",
    "# oso o xrhsths den afhnei adeia grammi\n",
    "while num != \"\":\n",
    "    num = input(\"Give number: \")\n",
    "    if num != \"\":\n",
    "        lista.append(int(num))\n",
    "print(lista)\n",
    "new_list = []\n",
    "\n",
    "# gia olous tous arnhtikous arithmous\n",
    "for i in range(0, len(lista)):\n",
    "    # sthn periptwsh p einai arnhtikos o arithmos\n",
    "    if lista[i] < 0:\n",
    "        new_list.append(lista[i])\n",
    "        \n",
    "# gia ola ta 0\n",
    "for i in range(0,len(lista)):\n",
    "    # sthn periptwsh p einai 0\n",
    "    if lista[i] == 0:\n",
    "        new_list.append(lista[i])\n",
    "                \n",
    "# gia olous tous thetikous arithmous\n",
    "for i in range(0, len(lista)):   \n",
    "    # sthn periptwsh p einai thetikos o arithmos  \n",
    "    if lista[i] > 0:\n",
    "        new_list.append(lista[i])\n",
    "    \n",
    "\n",
    "print(\"values: \")\n",
    "for i in range(0, len(new_list)):\n",
    "    print(new_list[i])\n",
    "\n",
    "\n"
   ]
  },
  {
   "cell_type": "code",
   "execution_count": null,
   "id": "9d4718e7",
   "metadata": {},
   "outputs": [],
   "source": []
  }
 ],
 "metadata": {
  "kernelspec": {
   "display_name": "Python 3 (ipykernel)",
   "language": "python",
   "name": "python3"
  },
  "language_info": {
   "codemirror_mode": {
    "name": "ipython",
    "version": 3
   },
   "file_extension": ".py",
   "mimetype": "text/x-python",
   "name": "python",
   "nbconvert_exporter": "python",
   "pygments_lexer": "ipython3",
   "version": "3.10.3"
  }
 },
 "nbformat": 4,
 "nbformat_minor": 5
}
