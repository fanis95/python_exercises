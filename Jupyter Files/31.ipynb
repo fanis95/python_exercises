{
 "cells": [
  {
   "cell_type": "code",
   "execution_count": 7,
   "id": "2e628ac7",
   "metadata": {},
   "outputs": [
    {
     "name": "stdout",
     "output_type": "stream",
     "text": [
      "Give first value: 0\n",
      "You can't enter 0 as a first value!\n"
     ]
    }
   ],
   "source": [
    "# metrhths gia to posa stoixeia tha prosthesei o xrhsths\n",
    "i = 0\n",
    "# edw tha krataw to sunolo twn timwn pou tha prosthetei o xrhsths\n",
    "sum = 0\n",
    "\n",
    "num = float(input(\"Give first value: \"))\n",
    "\n",
    "# oso o xrhsths den eisagei 0\n",
    "while num != 0:\n",
    "    sum += num\n",
    "    i += 1\n",
    "    num = float(input(\"Give value: \"))\n",
    "\n",
    "try:\n",
    "    print(\"the average is: \" + str(sum / i))\n",
    "    \n",
    "# se periptwsh pou paroume to parakatw error, shmainei oti sto try tha prospathhsei na kanei diairesh me to 0\n",
    "# dhladh o xrhsths tha exei grapsei 0 sthn prwth eisagwgh\n",
    "except ZeroDivisionError:\n",
    "    print(\"You can't enter 0 as a first value!\")\n",
    "\n",
    "\n",
    "\n",
    "        \n",
    "    \n",
    "    \n",
    "    \n",
    "    "
   ]
  },
  {
   "cell_type": "code",
   "execution_count": null,
   "id": "092eb0dd",
   "metadata": {},
   "outputs": [],
   "source": []
  },
  {
   "cell_type": "code",
   "execution_count": null,
   "id": "e19ccf1a",
   "metadata": {},
   "outputs": [],
   "source": []
  }
 ],
 "metadata": {
  "kernelspec": {
   "display_name": "Python 3 (ipykernel)",
   "language": "python",
   "name": "python3"
  },
  "language_info": {
   "codemirror_mode": {
    "name": "ipython",
    "version": 3
   },
   "file_extension": ".py",
   "mimetype": "text/x-python",
   "name": "python",
   "nbconvert_exporter": "python",
   "pygments_lexer": "ipython3",
   "version": "3.10.3"
  }
 },
 "nbformat": 4,
 "nbformat_minor": 5
}
