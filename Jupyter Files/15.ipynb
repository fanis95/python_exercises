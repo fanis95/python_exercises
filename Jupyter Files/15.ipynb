{
 "cells": [
  {
   "cell_type": "code",
   "execution_count": 24,
   "id": "0bdb0128",
   "metadata": {},
   "outputs": [
    {
     "name": "stdout",
     "output_type": "stream",
     "text": [
      "Give the distance travelled in kilometers: 1\n",
      "total fare is: $5.75\n"
     ]
    }
   ],
   "source": [
    "def taxi_fares(kms):\n",
    "    \n",
    "    # metatroph xiliometrwn se metra\n",
    "    kms = kms * 1000\n",
    "    \n",
    "    # ston teliko naulo, prosthetw ta 4$, sin ton pollaplasiasmo tou akaireoy merous ths diaireshs \n",
    "    # twn metrwn pou edwse o xrhsths me ta 140m \n",
    "    fares = 4 + (int(kms / 140) * 0.25)\n",
    "    return fares\n",
    "    \n",
    "    \n",
    "kms = float(input(\"Give the distance travelled in kilometers: \"))\n",
    "print(\"total fare is: $\" + str(taxi_fares(kms)))"
   ]
  },
  {
   "cell_type": "code",
   "execution_count": null,
   "id": "ae121f23",
   "metadata": {},
   "outputs": [],
   "source": []
  },
  {
   "cell_type": "code",
   "execution_count": null,
   "id": "dccfddf5",
   "metadata": {},
   "outputs": [],
   "source": []
  }
 ],
 "metadata": {
  "kernelspec": {
   "display_name": "Python 3 (ipykernel)",
   "language": "python",
   "name": "python3"
  },
  "language_info": {
   "codemirror_mode": {
    "name": "ipython",
    "version": 3
   },
   "file_extension": ".py",
   "mimetype": "text/x-python",
   "name": "python",
   "nbconvert_exporter": "python",
   "pygments_lexer": "ipython3",
   "version": "3.10.3"
  }
 },
 "nbformat": 4,
 "nbformat_minor": 5
}
