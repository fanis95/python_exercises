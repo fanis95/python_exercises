{
 "cells": [
  {
   "cell_type": "code",
   "execution_count": 3,
   "id": "70aa7a83",
   "metadata": {},
   "outputs": [
    {
     "name": "stdout",
     "output_type": "stream",
     "text": [
      "Give four-digit integer: 3141\n",
      "9\n"
     ]
    }
   ],
   "source": [
    "def digit_sum(num):\n",
    "    \n",
    "    sum = 0\n",
    "    \n",
    "    # metatrepw se string ton arithmo pou eishgage o xrhsths, kai epeksergazomai kathe stoixeio ksexwrista\n",
    "    # apo to string\n",
    "    for digit in str(num):\n",
    "        \n",
    "        # metatrepw to kathe stoixeio apo to string, pali se int kai to prosthetw sto sunolo\n",
    "        sum += int(digit)\n",
    "        \n",
    "    return sum\n",
    "\n",
    "num = int(input(\"Give four-digit integer: \"))\n",
    "print(digit_sum(num))\n",
    "    "
   ]
  },
  {
   "cell_type": "code",
   "execution_count": null,
   "id": "9f78d0f1",
   "metadata": {},
   "outputs": [],
   "source": []
  }
 ],
 "metadata": {
  "kernelspec": {
   "display_name": "Python 3 (ipykernel)",
   "language": "python",
   "name": "python3"
  },
  "language_info": {
   "codemirror_mode": {
    "name": "ipython",
    "version": 3
   },
   "file_extension": ".py",
   "mimetype": "text/x-python",
   "name": "python",
   "nbconvert_exporter": "python",
   "pygments_lexer": "ipython3",
   "version": "3.10.3"
  }
 },
 "nbformat": 4,
 "nbformat_minor": 5
}
