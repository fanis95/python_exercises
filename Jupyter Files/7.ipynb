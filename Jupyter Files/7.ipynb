{
 "cells": [
  {
   "cell_type": "code",
   "execution_count": 6,
   "id": "b876e084",
   "metadata": {},
   "outputs": [
    {
     "name": "stdout",
     "output_type": "stream",
     "text": [
      "Give word: ena\n",
      "Give word: ena\n",
      "Give word: duo\n",
      "Give word: tria\n",
      "Give word: tria\n",
      "Give word: tessera\n",
      "Give word: \n",
      "ena\n",
      "duo\n",
      "tria\n",
      "tessera\n"
     ]
    }
   ],
   "source": [
    "# prwth eisagwgh lekshs apo ton xrhsth\n",
    "word = input(\"Give word: \")\n",
    "# prosthetoume thn prwth leksh sthn lista\n",
    "lista = [word]\n",
    "\n",
    "# oso o xrhsths den afhnei adeia grammi\n",
    "while word != \"\":\n",
    "    word = input(\"Give word: \")\n",
    "    if word!= \"\":\n",
    "        lista.append(word)\n",
    "\n",
    "# tha afairesw oles tis lekseis pou uparxoun panw apo mia fora \n",
    "new_list = []\n",
    "for i in lista:\n",
    "    if i not in new_list:\n",
    "        new_list.append(i)\n",
    "\n",
    "# emfanizw tis lekseis ana seira\n",
    "print(\"words \")\n",
    "for i in range(0, len(new_list)):\n",
    "    print(new_list[i])\n",
    "\n",
    "    "
   ]
  },
  {
   "cell_type": "code",
   "execution_count": null,
   "id": "c6ce08bd",
   "metadata": {},
   "outputs": [],
   "source": []
  }
 ],
 "metadata": {
  "kernelspec": {
   "display_name": "Python 3 (ipykernel)",
   "language": "python",
   "name": "python3"
  },
  "language_info": {
   "codemirror_mode": {
    "name": "ipython",
    "version": 3
   },
   "file_extension": ".py",
   "mimetype": "text/x-python",
   "name": "python",
   "nbconvert_exporter": "python",
   "pygments_lexer": "ipython3",
   "version": "3.10.3"
  }
 },
 "nbformat": 4,
 "nbformat_minor": 5
}
