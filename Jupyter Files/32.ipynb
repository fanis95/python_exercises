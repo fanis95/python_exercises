{
 "cells": [
  {
   "cell_type": "code",
   "execution_count": 3,
   "id": "1441f14b",
   "metadata": {},
   "outputs": [
    {
     "name": "stdout",
     "output_type": "stream",
     "text": [
      "1st approximation of p is: 3.1666666666666665\n",
      "2st approximation of p is: 3.1333333333333333\n",
      "3st approximation of p is: 3.145238095238095\n",
      "4st approximation of p is: 3.1396825396825396\n",
      "5st approximation of p is: 3.1427128427128426\n",
      "6st approximation of p is: 3.1408813408813407\n",
      "7st approximation of p is: 3.142071817071817\n",
      "8st approximation of p is: 3.1412548236077646\n",
      "9st approximation of p is: 3.141839618929402\n",
      "10st approximation of p is: 3.1414067184965018\n",
      "11st approximation of p is: 3.1417360992606653\n",
      "12st approximation of p is: 3.141479689004255\n",
      "13st approximation of p is: 3.1416831892077552\n",
      "14st approximation of p is: 3.1415189855952756\n",
      "15st approximation of p is: 3.141653394197426\n"
     ]
    }
   ],
   "source": [
    "def value_of_pi():\n",
    "    \n",
    "    # arxikopoiw to p me 3\n",
    "    pi = 3\n",
    "    \n",
    "    # metavliti pou tha xrhsimopoiw gia ton upologismo twn klasmatwn\n",
    "    j = 4\n",
    "    \n",
    "    # tha emfanisw 15 upologismous\n",
    "    for i in range(1,16):\n",
    "        \n",
    "        # an to upoloipo ths diaireshs me to 2 einai 0 tote o arithmos tha einai zugos\n",
    "        # ara tha prepei na afairesw to klasma apo to p pou exoume hdh vrei\n",
    "        if i % 2 == 0:\n",
    "            pi -= 4 / ((j-2) * (j-1) * j)\n",
    "        \n",
    "        # alliws tha einai perittos\n",
    "        # kai tha prepei na prosthesw to klasma sto p pou exoume hdh vrei\n",
    "        else:\n",
    "            pi += 4 / ((j-2) * (j-1) * j)\n",
    "    \n",
    "        j += 2\n",
    "        \n",
    "        print(str(i) + \"st approximation of p is: \" + str(pi))\n",
    "    \n",
    "    \n",
    "value_of_pi()  \n",
    "    \n",
    "    \n",
    "    \n",
    "    \n",
    "    "
   ]
  },
  {
   "cell_type": "code",
   "execution_count": null,
   "id": "9cf42556",
   "metadata": {},
   "outputs": [],
   "source": []
  }
 ],
 "metadata": {
  "kernelspec": {
   "display_name": "Python 3 (ipykernel)",
   "language": "python",
   "name": "python3"
  },
  "language_info": {
   "codemirror_mode": {
    "name": "ipython",
    "version": 3
   },
   "file_extension": ".py",
   "mimetype": "text/x-python",
   "name": "python",
   "nbconvert_exporter": "python",
   "pygments_lexer": "ipython3",
   "version": "3.10.3"
  }
 },
 "nbformat": 4,
 "nbformat_minor": 5
}
