{
 "cells": [
  {
   "cell_type": "code",
   "execution_count": 2,
   "id": "abb62003",
   "metadata": {},
   "outputs": [
    {
     "name": "stdout",
     "output_type": "stream",
     "text": [
      "Enter year: 2020\n",
      "2020 is a leap year\n"
     ]
    }
   ],
   "source": [
    "def is_leap(year):\n",
    "    \n",
    "    leap = False\n",
    "    \n",
    "    # an diaireite me to 400 tote einai leap year kai thetw thn metavlhth year alithi\n",
    "    if year % 400 == 0:\n",
    "        leap = True\n",
    "        \n",
    "    # an diaireite me to 4 kai oxi me to 100 tote einai kai pali leap kai thetw thn metavlhth year alithi\n",
    "    elif (year % 4 == 0) and (year % 100 != 0): \n",
    "        leap = True\n",
    "    \n",
    "    # an h metavlhth leap einai true tote h xronia einai leap\n",
    "    if leap == True:\n",
    "        return str(year) + \" is a leap year\"\n",
    "    \n",
    "    # alliws oxi\n",
    "    else:\n",
    "        return str(year) + \" is not a leap year\"\n",
    "    \n",
    "    \n",
    "\n",
    "year = int(input(\"Enter year: \"))\n",
    "print(is_leap(year))"
   ]
  },
  {
   "cell_type": "code",
   "execution_count": null,
   "id": "0880df64",
   "metadata": {},
   "outputs": [],
   "source": []
  }
 ],
 "metadata": {
  "kernelspec": {
   "display_name": "Python 3 (ipykernel)",
   "language": "python",
   "name": "python3"
  },
  "language_info": {
   "codemirror_mode": {
    "name": "ipython",
    "version": 3
   },
   "file_extension": ".py",
   "mimetype": "text/x-python",
   "name": "python",
   "nbconvert_exporter": "python",
   "pygments_lexer": "ipython3",
   "version": "3.10.3"
  }
 },
 "nbformat": 4,
 "nbformat_minor": 5
}
