{
 "cells": [
  {
   "cell_type": "code",
   "execution_count": 19,
   "id": "5ab89572",
   "metadata": {},
   "outputs": [
    {
     "name": "stdout",
     "output_type": "stream",
     "text": [
      "Give position: H7\n",
      "The color of this position is: white\n"
     ]
    }
   ],
   "source": [
    "# skeptomenos thn lush ths askhshs parathrhsa oti an antistoixhsw ta a,b,...,h me 1,2,....,8\n",
    "# tote an prosthetw to tis dio times pou xarakthrizoun mia thesh, an to apotelesma einai peritto\n",
    "# tote to xrwma tha einai aspro kai an to apotelesma einai zugo\n",
    "# tote to xrwma tha einai mavro\n",
    "\n",
    "# dictionary me thn antistoixia twn grammatwn me tous arithmous pou tha me voithisoun\n",
    "# na brw an ena apotelesma tha einai zugo h peritto\n",
    "chess_letter = {\n",
    "    'a': 1,\n",
    "    'b': 2,\n",
    "    'c': 3,\n",
    "    'd': 4,\n",
    "    'e': 5,\n",
    "    'f': 6,\n",
    "    'g': 7,\n",
    "    'h': 8\n",
    "}\n",
    "\n",
    "\n",
    "def find_color(position):\n",
    "\n",
    "    # anazhtw to value pou antistoixei sto prwto gramma pou edwse o xrhsths\n",
    "    # kai tou prosthetw ton arithmo pou edwse o xrhsths san deftero xarakthra\n",
    "    # an loipon auth h prosthesh einai zugos arithmos tote h thesh tha einai mavrh\n",
    "    if int(chess_letter[position[0].lower()] + int(position[1])) % 2 == 0:\n",
    "        return \"black\"\n",
    "    \n",
    "    # alliws tha einai asprh\n",
    "    else:\n",
    "        return \"white\"\n",
    "\n",
    "position = input(\"Give position: \")\n",
    "print(\"The color of this position is: \" + find_color(position))"
   ]
  },
  {
   "cell_type": "code",
   "execution_count": null,
   "id": "bc691357",
   "metadata": {},
   "outputs": [],
   "source": []
  },
  {
   "cell_type": "code",
   "execution_count": null,
   "id": "7278b893",
   "metadata": {},
   "outputs": [],
   "source": []
  }
 ],
 "metadata": {
  "kernelspec": {
   "display_name": "Python 3 (ipykernel)",
   "language": "python",
   "name": "python3"
  },
  "language_info": {
   "codemirror_mode": {
    "name": "ipython",
    "version": 3
   },
   "file_extension": ".py",
   "mimetype": "text/x-python",
   "name": "python",
   "nbconvert_exporter": "python",
   "pygments_lexer": "ipython3",
   "version": "3.10.3"
  }
 },
 "nbformat": 4,
 "nbformat_minor": 5
}
