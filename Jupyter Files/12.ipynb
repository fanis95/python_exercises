{
 "cells": [
  {
   "cell_type": "code",
   "execution_count": 17,
   "id": "8174910f",
   "metadata": {},
   "outputs": [
    {
     "name": "stdout",
     "output_type": "stream",
     "text": [
      "[[], [1], [1, 2], [1, 2, 3], [1, 2, 3, 4], [1, 2, 3, 4, 5], [2], [2, 3], [2, 3, 4], [2, 3, 4, 5], [3], [3, 4], [3, 4, 5], [4], [4, 5], [5]]\n"
     ]
    }
   ],
   "source": [
    "def sub_lists(main_list):\n",
    "    \n",
    "    final_lists = []\n",
    "    \n",
    "    # prosthetw sthn telikh lista pou tha ektupwsoume, to keno pou einai etsi kai alliws sub-list se kathe lista\n",
    "    final_lists.append([])\n",
    "    \n",
    "    # gia kathe stoixeio ths arxikhs listas, tha kratame to kathe stoixeio kai tha dhmiourgoume sub-lists\n",
    "    # pou tha arxizoun apo auto to stoixeio\n",
    "    for i in range(len(main_list) + 1):\n",
    "        \n",
    "        # kratame to basiko stoixeio pou exoume diathrhsei apo thn prohgoumenh for\n",
    "        # kai prosthetoume to epomeno stoixeio, kai kathe fora pou tha gurizei sthn for auth\n",
    "        # tha krataei ta prohgoumena stoixeia mexri na teleiwsei h arxikh lista\n",
    "        for j in range(i + 1, len(main_list) + 1):\n",
    "            final_lists.append(main_list[i:j])\n",
    "    \n",
    "    return final_lists\n",
    "    \n",
    "main_list = [1,2,3,4,5]\n",
    "print(sub_lists(main_list))"
   ]
  },
  {
   "cell_type": "code",
   "execution_count": null,
   "id": "0cc03b55",
   "metadata": {},
   "outputs": [],
   "source": []
  },
  {
   "cell_type": "code",
   "execution_count": null,
   "id": "3d9f2566",
   "metadata": {},
   "outputs": [],
   "source": []
  }
 ],
 "metadata": {
  "kernelspec": {
   "display_name": "Python 3 (ipykernel)",
   "language": "python",
   "name": "python3"
  },
  "language_info": {
   "codemirror_mode": {
    "name": "ipython",
    "version": 3
   },
   "file_extension": ".py",
   "mimetype": "text/x-python",
   "name": "python",
   "nbconvert_exporter": "python",
   "pygments_lexer": "ipython3",
   "version": "3.10.3"
  }
 },
 "nbformat": 4,
 "nbformat_minor": 5
}
