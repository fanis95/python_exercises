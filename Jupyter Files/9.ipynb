{
 "cells": [
  {
   "cell_type": "code",
   "execution_count": 7,
   "id": "695ee28e",
   "metadata": {},
   "outputs": [
    {
     "name": "stdout",
     "output_type": "stream",
     "text": [
      "Give number: 3\n",
      "Give number: 4\n",
      "Give number: 2\n",
      "Give number: \n",
      "[3, 4, 2]\n",
      "avg: 3.0\n"
     ]
    }
   ],
   "source": [
    "# prwth eisagwgh aithmou apo ton xrhsth\n",
    "num = input(\"Give number: \")\n",
    "# prosthetoume ton prwto arithmo sthn lista\n",
    "lista = [int(num)]\n",
    "\n",
    "# oso o xrhsths den afhnei adeia grammi\n",
    "while num != \"\":\n",
    "    num = input(\"Give number: \")\n",
    "    if num != \"\":\n",
    "        lista.append(int(num))\n",
    "print(lista)\n",
    "\n",
    "# upologismos mesou orou\n",
    "sum = 0\n",
    "for i in range(0,len(lista)):\n",
    "    sum += lista[i]\n",
    "    \n",
    "avg = sum / len(lista)  \n",
    "    \n",
    "print(\"avg: \" + str(avg))   \n",
    "    \n",
    "    \n",
    "# aplh emfanhsh arxikhs listas kai tou mesou orou twn arithmwn tou xrhsth\n",
    "\n"
   ]
  },
  {
   "cell_type": "code",
   "execution_count": 9,
   "id": "50eed532",
   "metadata": {},
   "outputs": [
    {
     "name": "stdout",
     "output_type": "stream",
     "text": [
      "Give number: 3\n",
      "Give number: 4\n",
      "Give number: 2\n",
      "Give number: \n",
      "[3, 4, 2]\n",
      "avg: 3.0\n",
      "numbers below average: \n",
      "2\n",
      "numbers equal to average: \n",
      "3\n",
      "numbers above average: \n",
      "4\n"
     ]
    }
   ],
   "source": [
    "# prwth eisagwgh aithmou apo ton xrhsth\n",
    "num = input(\"Give number: \")\n",
    "# prosthetoume ton prwto arithmo sthn lista\n",
    "lista = [int(num)]\n",
    "\n",
    "# oso o xrhsths den afhnei adeia grammi\n",
    "while num != \"\":\n",
    "    num = input(\"Give number: \")\n",
    "    if num != \"\":\n",
    "        lista.append(int(num))\n",
    "print(lista)\n",
    "\n",
    "# upologismos mesou orou\n",
    "sum = 0\n",
    "for i in range(0,len(lista)):\n",
    "    sum += lista[i]\n",
    "    \n",
    "avg = sum / len(lista)  \n",
    "    \n",
    "print(\"avg: \" + str(avg))   \n",
    "    \n",
    "\n",
    "\n",
    "# gia olous tous arithmous p einai katw tou mesou orou\n",
    "print(\"numbers below average: \")\n",
    "for i in range(0, len(lista)):\n",
    "    if lista[i] < avg:\n",
    "        print(lista[i])\n",
    "        \n",
    "# gia olous tous arithmous p einai isou tou mesou orou\n",
    "print(\"numbers equal to average: \")\n",
    "for i in range(0,len(lista)):\n",
    "    if lista[i] == avg:\n",
    "        print(lista[i])\n",
    "                \n",
    "# gia olous tous arithmous p einai panw tou mesou orou\n",
    "print(\"numbers above average: \")\n",
    "for i in range(0, len(lista)):\n",
    "    if lista[i] > avg:\n",
    "        print(lista[i])\n",
    "    \n",
    "\n",
    "\n"
   ]
  },
  {
   "cell_type": "code",
   "execution_count": null,
   "id": "01ecd4dd",
   "metadata": {},
   "outputs": [],
   "source": []
  }
 ],
 "metadata": {
  "kernelspec": {
   "display_name": "Python 3 (ipykernel)",
   "language": "python",
   "name": "python3"
  },
  "language_info": {
   "codemirror_mode": {
    "name": "ipython",
    "version": 3
   },
   "file_extension": ".py",
   "mimetype": "text/x-python",
   "name": "python",
   "nbconvert_exporter": "python",
   "pygments_lexer": "ipython3",
   "version": "3.10.3"
  }
 },
 "nbformat": 4,
 "nbformat_minor": 5
}
