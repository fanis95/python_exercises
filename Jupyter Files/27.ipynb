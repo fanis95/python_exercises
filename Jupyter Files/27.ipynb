{
 "cells": [
  {
   "cell_type": "code",
   "execution_count": 19,
   "id": "056ae785",
   "metadata": {},
   "outputs": [
    {
     "name": "stdout",
     "output_type": "stream",
     "text": [
      "Enter month: September\n",
      "September has 30 days\n"
     ]
    }
   ],
   "source": [
    "days_of_months = {\n",
    "    'january': '31',\n",
    "    'february': '28/29',\n",
    "    'march': '31',\n",
    "    'april': '30',\n",
    "    'may': '31',\n",
    "    'june': '30',\n",
    "    'july': '31',\n",
    "    'august': '31',\n",
    "    'september': '30',\n",
    "    'october': '31',\n",
    "    'november': '30',\n",
    "    'december': '31'\n",
    "\n",
    "}\n",
    "\n",
    "def days(month):\n",
    "    \n",
    "    # elegxo an uparxei o mhnas pou evale o xrhsths sto dictionary\n",
    "    # metatrepw ta grammata se mikra gia na ginei swsta h sigkrish me to dictionary\n",
    "    if month.lower() in days_of_months:\n",
    "        return month + \" has \" + days_of_months[month.lower()] + \" days\"\n",
    "    \n",
    "    # an den uparxei o mhnas p evale o xrhsths emfanizei antistoixo mhnuma\n",
    "    else:\n",
    "        return \"there is no month called \" + month\n",
    "    \n",
    "    \n",
    "\n",
    "month = input(\"Enter month: \")\n",
    "\n",
    "print(days(month))\n",
    "\n"
   ]
  },
  {
   "cell_type": "code",
   "execution_count": null,
   "id": "36a0b404",
   "metadata": {},
   "outputs": [],
   "source": []
  },
  {
   "cell_type": "code",
   "execution_count": null,
   "id": "7c2cfa7a",
   "metadata": {},
   "outputs": [],
   "source": []
  }
 ],
 "metadata": {
  "kernelspec": {
   "display_name": "Python 3 (ipykernel)",
   "language": "python",
   "name": "python3"
  },
  "language_info": {
   "codemirror_mode": {
    "name": "ipython",
    "version": 3
   },
   "file_extension": ".py",
   "mimetype": "text/x-python",
   "name": "python",
   "nbconvert_exporter": "python",
   "pygments_lexer": "ipython3",
   "version": "3.10.3"
  }
 },
 "nbformat": 4,
 "nbformat_minor": 5
}
