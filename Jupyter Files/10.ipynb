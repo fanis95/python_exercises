{
 "cells": [
  {
   "cell_type": "code",
   "execution_count": 14,
   "id": "f8cf1e90",
   "metadata": {},
   "outputs": [
    {
     "name": "stdout",
     "output_type": "stream",
     "text": [
      "3\n"
     ]
    }
   ],
   "source": [
    "def countRange(lista, max_v, min_v):\n",
    "    count = 0\n",
    "    \n",
    "    # anazhthsh se olh thn lista\n",
    "    for i in range(0, len(lista)):\n",
    "        # an einai megalutero/iso apo thn timh min_v kai megalutero apo thn timh max_v\n",
    "        if lista[i] >= min_v and lista[i] < max_v:\n",
    "            # auksanoume ton counter kata 1\n",
    "            count += 1\n",
    "    \n",
    "    return count\n",
    "    \n",
    "    \n",
    "lista = [2, 3, 7, 8, 5.4, 8.9, 2.544]\n",
    "max_v = 7\n",
    "min_v = 2.5\n",
    "print(countRange(lista, max_v, min_v))"
   ]
  },
  {
   "cell_type": "code",
   "execution_count": null,
   "id": "c2c5706f",
   "metadata": {},
   "outputs": [],
   "source": []
  },
  {
   "cell_type": "code",
   "execution_count": null,
   "id": "6e919c86",
   "metadata": {},
   "outputs": [],
   "source": []
  }
 ],
 "metadata": {
  "kernelspec": {
   "display_name": "Python 3 (ipykernel)",
   "language": "python",
   "name": "python3"
  },
  "language_info": {
   "codemirror_mode": {
    "name": "ipython",
    "version": 3
   },
   "file_extension": ".py",
   "mimetype": "text/x-python",
   "name": "python",
   "nbconvert_exporter": "python",
   "pygments_lexer": "ipython3",
   "version": "3.10.3"
  }
 },
 "nbformat": 4,
 "nbformat_minor": 5
}
