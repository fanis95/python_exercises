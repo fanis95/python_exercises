{
 "cells": [
  {
   "cell_type": "code",
   "execution_count": 12,
   "id": "e735a122",
   "metadata": {},
   "outputs": [
    {
     "name": "stdout",
     "output_type": "stream",
     "text": [
      "Enter human years: 10\n",
      "Dog years are: 53.0\n"
     ]
    }
   ],
   "source": [
    "def dog_years(human_years):\n",
    "    \n",
    "    # an to anthrwpina xronia einai mikrotera twn 2\n",
    "    if human_years < 2:\n",
    "        dog = human_years * 10.5\n",
    "        \n",
    "    # an einai panw apo 2, tote tha einai 21(2 * 10.5) xronwn gia ta prwta 2 xronia +\n",
    "    # 4 * ta epomena anthrwpina xronia, afairwntas ta duo prwta\n",
    "    elif human_years > 2:\n",
    "        dog = 21 + (human_years - 2) * 4\n",
    "        \n",
    "    # alliws tha einai 21, afou tha exoume 2 anthrwpina xronia\n",
    "    else:\n",
    "        dog = 21\n",
    "\n",
    "    return dog\n",
    "\n",
    "# to thetw san float gia thn periptwsh pou prostethoun kai mhnes, p.x. 24.6\n",
    "human_years = float(input(\"Enter human years: \"))\n",
    "# an o xrhsths valei arnhtikh timh\n",
    "if human_years < 0:\n",
    "    print(\"You entered a not valid value, a negative number!\")\n",
    "else:\n",
    "    print(\"Dog years are: \" + str(dog_years(human_years)))\n"
   ]
  },
  {
   "cell_type": "code",
   "execution_count": null,
   "id": "0de01583",
   "metadata": {},
   "outputs": [],
   "source": []
  },
  {
   "cell_type": "code",
   "execution_count": null,
   "id": "c083494b",
   "metadata": {},
   "outputs": [],
   "source": []
  }
 ],
 "metadata": {
  "kernelspec": {
   "display_name": "Python 3 (ipykernel)",
   "language": "python",
   "name": "python3"
  },
  "language_info": {
   "codemirror_mode": {
    "name": "ipython",
    "version": 3
   },
   "file_extension": ".py",
   "mimetype": "text/x-python",
   "name": "python",
   "nbconvert_exporter": "python",
   "pygments_lexer": "ipython3",
   "version": "3.10.3"
  }
 },
 "nbformat": 4,
 "nbformat_minor": 5
}
