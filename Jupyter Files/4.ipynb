{
 "cells": [
  {
   "cell_type": "code",
   "execution_count": 17,
   "id": "8666c4f0",
   "metadata": {},
   "outputs": [
    {
     "name": "stdout",
     "output_type": "stream",
     "text": [
      "Quebec\n"
     ]
    }
   ],
   "source": [
    "# dictionary me ta postal codes\n",
    "postal_codes = {\n",
    "    \"A\": \"Newfoundland\",\n",
    "    \"B\": \"Nova Scotia\",\n",
    "    \"C\": \"Prince Edward Island\",\n",
    "    \"E\": \"New Brunswick\",\n",
    "    \"G\": \"Quebec\",\n",
    "    \"H\": \"Quebec\",\n",
    "    \"J\": \"Quebec\",\n",
    "    \"K\": \"Ontario\",\n",
    "    \"L\": \"Ontario\",\n",
    "    \"M\": \"Ontario\",\n",
    "    \"N\": \"Ontario\",\n",
    "    \"P\": \"Ontario\",\n",
    "    \"R\": \"Manitoba\",\n",
    "    \"S\": \"Saskatchewan\",\n",
    "    \"T\": \"Alberta\",\n",
    "    \"V\": \"British Columbia\",\n",
    "    \"X\": \"Nunavut or Northwest Territories\",\n",
    "    \"Y\": \"Yukon\"\n",
    "}\n",
    "\n",
    "    \n",
    "print(postal_codes.get(\"H\"))\n",
    "\n",
    "\n"
   ]
  },
  {
   "cell_type": "code",
   "execution_count": 50,
   "id": "3f3dc5de",
   "metadata": {},
   "outputs": [
    {
     "name": "stdout",
     "output_type": "stream",
     "text": [
      "Enter your message: p2sa\n",
      "ok\n",
      "ok\n",
      "None\n"
     ]
    }
   ],
   "source": [
    "# dictionary me ta postal codes\n",
    "postal_codes = {\n",
    "    \"A\": \"Newfoundland\",\n",
    "    \"B\": \"Nova Scotia\",\n",
    "    \"C\": \"Prince Edward Island\",\n",
    "    \"E\": \"New Brunswick\",\n",
    "    \"G\": \"Quebec\",\n",
    "    \"H\": \"Quebec\",\n",
    "    \"J\": \"Quebec\",\n",
    "    \"K\": \"Ontario\",\n",
    "    \"L\": \"Ontario\",\n",
    "    \"M\": \"Ontario\",\n",
    "    \"N\": \"Ontario\",\n",
    "    \"P\": \"Ontario\",\n",
    "    \"R\": \"Manitoba\",\n",
    "    \"S\": \"Saskatchewan\",\n",
    "    \"T\": \"Alberta\",\n",
    "    \"V\": \"British Columbia\",\n",
    "    \"X\": \"Nunavut or Northwest Territories\",\n",
    "    \"Y\": \"Yukon\"\n",
    "}\n",
    "\n",
    "\n",
    "def check_postal(postal_code):\n",
    "    \n",
    "    # prwto character\n",
    "    first_char = postal_code[0]\n",
    "    # deftero character\n",
    "    second_char = postal_code[1]\n",
    "    \n",
    "    # elegxos gia to an to postal code ksekinaei me apodekto xarakthra\n",
    "    if first_char.upper() in postal_codes:\n",
    "        print(\"ok\")\n",
    "        \n",
    "        # elegxos gia to an o defteros xarakthras einai arithmos\n",
    "        if second_char >= \"0\" and second_char <= \"9\":\n",
    "            print(\"ok\")\n",
    "        # emfanhsh mhnumatos gia to oti o defteros xarakthras den einai arithmos\n",
    "        else:\n",
    "            print(\"The second character is not a digit\")\n",
    "    # emfanhsh mhnymatos gia to oti to postal code den ksekinaei me apodekto xarakthra\n",
    "    else:\n",
    "        print(\"The postal begins with an invalid character\")\n",
    "    \n",
    "\n",
    "# user's message\n",
    "print(check_postal(input(\"Enter your message: \")))\n",
    "\n",
    "\n"
   ]
  },
  {
   "cell_type": "code",
   "execution_count": 56,
   "id": "b0002a98",
   "metadata": {},
   "outputs": [
    {
     "name": "stdout",
     "output_type": "stream",
     "text": [
      "Enter your message: T2N 1N4\n",
      "the address is urban in Alberta\n",
      "None\n"
     ]
    }
   ],
   "source": [
    "# dictionary me ta postal codes\n",
    "postal_codes = {\n",
    "    \"A\": \"Newfoundland\",\n",
    "    \"B\": \"Nova Scotia\",\n",
    "    \"C\": \"Prince Edward Island\",\n",
    "    \"E\": \"New Brunswick\",\n",
    "    \"G\": \"Quebec\",\n",
    "    \"H\": \"Quebec\",\n",
    "    \"J\": \"Quebec\",\n",
    "    \"K\": \"Ontario\",\n",
    "    \"L\": \"Ontario\",\n",
    "    \"M\": \"Ontario\",\n",
    "    \"N\": \"Ontario\",\n",
    "    \"P\": \"Ontario\",\n",
    "    \"R\": \"Manitoba\",\n",
    "    \"S\": \"Saskatchewan\",\n",
    "    \"T\": \"Alberta\",\n",
    "    \"V\": \"British Columbia\",\n",
    "    \"X\": \"Nunavut or Northwest Territories\",\n",
    "    \"Y\": \"Yukon\"\n",
    "}\n",
    "\n",
    "\n",
    "def check_postal(postal_code):\n",
    "    \n",
    "    # prwto character\n",
    "    first_char = postal_code[0]\n",
    "    # deftero character\n",
    "    second_char = postal_code[1]\n",
    "    \n",
    "    # elegxos gia to an to postal code ksekinaei me apodekto xarakthra\n",
    "    if first_char.upper() in postal_codes:\n",
    "        \n",
    "        # elegxos gia to an o defteros xarakthras einai arithmos\n",
    "        if second_char >= \"0\" and second_char <= \"9\":\n",
    "            \n",
    "            # an einai 0 o defteros xarakthras tha einai rural\n",
    "            if second_char == \"0\":\n",
    "                print(\"the address is rural in \" + postal_codes.get(first_char.upper()))\n",
    "            # alliws tha einai urban\n",
    "            else:\n",
    "                print(\"the address is urban in \" + postal_codes.get(first_char.upper()))\n",
    "                \n",
    "        # emfanhsh mhnumatos gia to oti o defteros xarakthras den einai arithmos\n",
    "        else:\n",
    "            print(\"The second character is not a digit\")\n",
    "    # emfanhsh mhnymatos gia to oti to postal code den ksekinaei me apodekto xarakthra\n",
    "    else:\n",
    "        print(\"The postal begins with an invalid character\")\n",
    "    \n",
    "\n",
    "# user's message\n",
    "print(check_postal(input(\"Enter your message: \")))\n",
    "\n",
    "\n"
   ]
  },
  {
   "cell_type": "code",
   "execution_count": null,
   "id": "21b1d098",
   "metadata": {},
   "outputs": [],
   "source": []
  },
  {
   "cell_type": "code",
   "execution_count": null,
   "id": "c924f250",
   "metadata": {},
   "outputs": [],
   "source": []
  }
 ],
 "metadata": {
  "kernelspec": {
   "display_name": "Python 3 (ipykernel)",
   "language": "python",
   "name": "python3"
  },
  "language_info": {
   "codemirror_mode": {
    "name": "ipython",
    "version": 3
   },
   "file_extension": ".py",
   "mimetype": "text/x-python",
   "name": "python",
   "nbconvert_exporter": "python",
   "pygments_lexer": "ipython3",
   "version": "3.10.3"
  }
 },
 "nbformat": 4,
 "nbformat_minor": 5
}
