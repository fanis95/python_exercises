{
 "cells": [
  {
   "cell_type": "code",
   "execution_count": 3,
   "id": "4fb2702b",
   "metadata": {},
   "outputs": [
    {
     "name": "stdout",
     "output_type": "stream",
     "text": [
      "Enter number: 16\n",
      "number 16 is even\n"
     ]
    }
   ],
   "source": [
    "def even_or_odd(num):\n",
    "    \n",
    "    even = \"even\"\n",
    "    odd = \"odd\"\n",
    "    \n",
    "    # an to upoloipo ths diaireshs me to 2 einai 0 tote o arithmos tha einai zugos\n",
    "    if num % 2 == 0:\n",
    "        return even\n",
    "    # alliws tha einai perittos\n",
    "    else:\n",
    "        return odd\n",
    "\n",
    "\n",
    "num = int(input(\"Enter number: \"))\n",
    "print(\"number \" + str(num) + \" is \" + even_or_odd(num))\n"
   ]
  },
  {
   "cell_type": "code",
   "execution_count": null,
   "id": "34cc9958",
   "metadata": {},
   "outputs": [],
   "source": []
  }
 ],
 "metadata": {
  "kernelspec": {
   "display_name": "Python 3 (ipykernel)",
   "language": "python",
   "name": "python3"
  },
  "language_info": {
   "codemirror_mode": {
    "name": "ipython",
    "version": 3
   },
   "file_extension": ".py",
   "mimetype": "text/x-python",
   "name": "python",
   "nbconvert_exporter": "python",
   "pygments_lexer": "ipython3",
   "version": "3.10.3"
  }
 },
 "nbformat": 4,
 "nbformat_minor": 5
}
