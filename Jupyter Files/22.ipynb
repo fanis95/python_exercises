{
 "cells": [
  {
   "cell_type": "code",
   "execution_count": 6,
   "id": "d8337c6c",
   "metadata": {},
   "outputs": [
    {
     "name": "stdout",
     "output_type": "stream",
     "text": [
      "Enter s1: 6\n",
      "Enter s2: 4\n",
      "Enter s3: 5.5\n",
      "Area of triangle with s1 = 6.0, s2 = 4.0 and s3 = 5.5 is: 10.697363869196934\n"
     ]
    }
   ],
   "source": [
    "from math import sqrt\n",
    "\n",
    "# sinartisi gia ton upologismo tou area \n",
    "def area_of_triangle(s1, s2,s3):\n",
    "    \n",
    "    # upologismos tou s\n",
    "    s = (s1 + s2 + s3) / 2\n",
    "    \n",
    "    # upologismos tou area me thn voithia ths sunarthshs sqrt pou antistoixei sthn tetragwnikh riza\n",
    "    area = sqrt(s * (s - s1) * (s - s2) * (s - s3))\n",
    "    return area\n",
    "\n",
    "\n",
    "s1 = float(input(\"Enter s1: \"))\n",
    "s2 = float(input(\"Enter s2: \"))\n",
    "s3 = float(input(\"Enter s3: \"))\n",
    "print(\"Area of triangle with s1 = \" + str(s1) + \", s2 = \" + str(s2) +\" and s3 = \" + str(s3) + \n",
    "      \" is: \" + str(area_of_triangle(s1, s2, s3)))"
   ]
  },
  {
   "cell_type": "code",
   "execution_count": null,
   "id": "60ba26f1",
   "metadata": {},
   "outputs": [],
   "source": []
  }
 ],
 "metadata": {
  "kernelspec": {
   "display_name": "Python 3 (ipykernel)",
   "language": "python",
   "name": "python3"
  },
  "language_info": {
   "codemirror_mode": {
    "name": "ipython",
    "version": 3
   },
   "file_extension": ".py",
   "mimetype": "text/x-python",
   "name": "python",
   "nbconvert_exporter": "python",
   "pygments_lexer": "ipython3",
   "version": "3.10.3"
  }
 },
 "nbformat": 4,
 "nbformat_minor": 5
}
