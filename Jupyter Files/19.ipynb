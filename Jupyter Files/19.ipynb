{
 "cells": [
  {
   "cell_type": "code",
   "execution_count": 6,
   "id": "6594de05",
   "metadata": {},
   "outputs": [
    {
     "name": "stdout",
     "output_type": "stream",
     "text": [
      "Enter latitude for first point in degrees: 2162.903107758479\n",
      "Enter longtitude for first point in degrees: 1545.9282712876761 \n",
      "Enter latitude for second point in degrees: 2165.29773034704\n",
      "Enter longtitude for second point in degrees: 1530.0679344112418\n",
      "Distance is 0.27922708323026896 kms\n"
     ]
    }
   ],
   "source": [
    "import math\n",
    "\n",
    "def distance(lat1, long1, lat2, long2):\n",
    "    \n",
    "    # metatroph twn moirwn pou parathese o xrhsths se radians\n",
    "    lat1 = math.radians(lat1)\n",
    "    lat2 = math.radians(lat2)\n",
    "    long1 = math.radians(long1)\n",
    "    long2 = math.radians(long2)\n",
    "    \n",
    "    # upologizw thn apostash spazontas thn kuria sunarthsh se mikrotera kommatia\n",
    "    # xrhsimopoiw sunartiseis apo thn vivliothiki math, gia ton upologismo sinimitonou kai hmitonou\n",
    "    a = math.sin(lat1) * math.sin(lat2)\n",
    "    b = math.cos(lat1) * math.cos(lat2) * math.cos(long1 - long2)\n",
    "    \n",
    "    # h sunarthsh acos upologizei to antistrofo sinimitono\n",
    "    c = math.acos(a + b)\n",
    "    dist = 6371.01 * c\n",
    "    \n",
    "    return c\n",
    "    \n",
    "# tis parakatw times tis vrhka apo to google maps\n",
    "# karlovasi radians: 37.79157468051619, 26.704723234664815 - degrees: 2165.29773034704, 1530.0679344112418\n",
    "# vathi     radians: 37.74978063200317, 26.981538333634067 - degrees: 2162.903107758479, 1545.9282712876761 \n",
    "lat1 = float(input(\"Enter latitude for first point in degrees: \"))\n",
    "long1 = float(input(\"Enter longtitude for first point in degrees: \"))\n",
    "lat2 = float(input(\"Enter latitude for second point in degrees: \"))\n",
    "long2 = float(input(\"Enter longtitude for second point in degrees: \"))\n",
    "print(\"Distance is \" + str(distance(lat1, long1, lat2, long2)) + \" kms\")"
   ]
  },
  {
   "cell_type": "code",
   "execution_count": null,
   "id": "fb2bee9f",
   "metadata": {},
   "outputs": [],
   "source": []
  }
 ],
 "metadata": {
  "kernelspec": {
   "display_name": "Python 3 (ipykernel)",
   "language": "python",
   "name": "python3"
  },
  "language_info": {
   "codemirror_mode": {
    "name": "ipython",
    "version": 3
   },
   "file_extension": ".py",
   "mimetype": "text/x-python",
   "name": "python",
   "nbconvert_exporter": "python",
   "pygments_lexer": "ipython3",
   "version": "3.10.3"
  }
 },
 "nbformat": 4,
 "nbformat_minor": 5
}
