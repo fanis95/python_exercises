{
 "cells": [
  {
   "cell_type": "code",
   "execution_count": 8,
   "id": "5f44d786",
   "metadata": {},
   "outputs": [
    {
     "name": "stdout",
     "output_type": "stream",
     "text": [
      "Give first shorter side: 3\n",
      "Give second shorter side: 4\n",
      "Length of Hypotenuse: 5.0\n"
     ]
    }
   ],
   "source": [
    "from math import sqrt\n",
    "\n",
    "def hypotenuse(shorter1, shorter2):\n",
    "    \n",
    "    # xrhsimopoiw tis sinartiseis pow, opou ipsonoume enan arithmo sthn dunamh pou theloume\n",
    "    # kai thn sqrt opou mas epistrefei thn tetragwnikh riza duo arithmwn\n",
    "    hypot = sqrt(pow(shorter1, 2) + pow(shorter2, 2)) \n",
    "    \n",
    "    return hypot\n",
    "    \n",
    "shorter1 = float(input(\"Give first shorter side: \"))  \n",
    "shorter2 = float(input(\"Give second shorter side: \"))  \n",
    "print(\"Length of Hypotenuse: \" + str(hypotenuse(shorter1, shorter2)))"
   ]
  },
  {
   "cell_type": "code",
   "execution_count": null,
   "id": "f07b38d2",
   "metadata": {},
   "outputs": [],
   "source": []
  }
 ],
 "metadata": {
  "kernelspec": {
   "display_name": "Python 3 (ipykernel)",
   "language": "python",
   "name": "python3"
  },
  "language_info": {
   "codemirror_mode": {
    "name": "ipython",
    "version": 3
   },
   "file_extension": ".py",
   "mimetype": "text/x-python",
   "name": "python",
   "nbconvert_exporter": "python",
   "pygments_lexer": "ipython3",
   "version": "3.10.3"
  }
 },
 "nbformat": 4,
 "nbformat_minor": 5
}
