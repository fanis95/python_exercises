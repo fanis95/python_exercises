{
 "cells": [
  {
   "cell_type": "code",
   "execution_count": 1,
   "id": "7c9bb668",
   "metadata": {},
   "outputs": [
    {
     "name": "stdout",
     "output_type": "stream",
     "text": [
      ".-\n",
      "...--\n"
     ]
    }
   ],
   "source": [
    "# to dictionary poy antoisthxei ston kwdika morse\n",
    "morse_code = {\n",
    "    'A': '.-',\n",
    "    'B': '-...',\n",
    "    'C': '-.-.',\n",
    "    'D': '-..',\n",
    "    'E': '.',\n",
    "    'F': '..-.',\n",
    "    'G': '--.',\n",
    "    'H': '....',\n",
    "    'I': '..',\n",
    "    'J': '.----',\n",
    "    'K': '-.-',\n",
    "    'L': '.-..',\n",
    "    'M': '--',\n",
    "    'N': '-.',\n",
    "    'O': '---',\n",
    "    'P': '.--.',\n",
    "    'Q': '--.-',\n",
    "    'R': '.-.',\n",
    "    'S': '...',\n",
    "    'T': '-',\n",
    "    'U': '..-',\n",
    "    'V': '...-',\n",
    "    'W': '.--',\n",
    "    'X': '-..-',\n",
    "    'Y': '-.--',\n",
    "    'Z': '--..',\n",
    "    0: '-----',\n",
    "    1: '.----',\n",
    "    2: '..---',\n",
    "    3: '...--',\n",
    "    4: '....-',\n",
    "    5: '.....',\n",
    "    6: '-....',\n",
    "    7: '--...',\n",
    "    8: '---..',\n",
    "    9: '----.'\n",
    "\n",
    "}\n",
    "\n",
    "\n",
    "\n",
    "print(morse_code.get(\"A\"))\n",
    "print(morse_code.get(3))\n"
   ]
  },
  {
   "cell_type": "code",
   "execution_count": 32,
   "id": "f30e779b",
   "metadata": {},
   "outputs": [
    {
     "name": "stdout",
     "output_type": "stream",
     "text": [
      "Enter your message: Hello, World!\n",
      ".... . .-.. .-.. --- .-- --- .-. .-.. -.. \n"
     ]
    }
   ],
   "source": [
    "# to dictionary poy antoisthxei ston kwdika morse\n",
    "morse_code = {\n",
    "    'A': '.-',\n",
    "    'B': '-...',\n",
    "    'C': '-.-.',\n",
    "    'D': '-..',\n",
    "    'E': '.',\n",
    "    'F': '..-.',\n",
    "    'G': '--.',\n",
    "    'H': '....',\n",
    "    'I': '..',\n",
    "    'J': '.----',\n",
    "    'K': '-.-',\n",
    "    'L': '.-..',\n",
    "    'M': '--',\n",
    "    'N': '-.',\n",
    "    'O': '---',\n",
    "    'P': '.--.',\n",
    "    'Q': '--.-',\n",
    "    'R': '.-.',\n",
    "    'S': '...',\n",
    "    'T': '-',\n",
    "    'U': '..-',\n",
    "    'V': '...-',\n",
    "    'W': '.--',\n",
    "    'X': '-..-',\n",
    "    'Y': '-.--',\n",
    "    'Z': '--..',\n",
    "    '0': '-----',\n",
    "    '1': '.----',\n",
    "    '2': '..---',\n",
    "    '3': '...--',\n",
    "    '4': '....-',\n",
    "    '5': '.....',\n",
    "    '6': '-....',\n",
    "    '7': '--...',\n",
    "    '8': '---..',\n",
    "    '9': '----.'\n",
    "\n",
    "}\n",
    "\n",
    "\n",
    "# sunarthsh gia thn metatroph tou mhnumatos se kwdika morse\n",
    "def conv_morse(phrase):\n",
    "    \n",
    "    morse = \"\"\n",
    "    \n",
    "    # gia kathe gramma tou mhnhmatos tha antikathistoume me ton antistixoi kwdika morse\n",
    "    for letter in phrase:\n",
    "        # an to gramma uparxei sto dictionary, tote arxizw na ftiaxnw ton teliko kwdika morse\n",
    "        if letter.upper() in morse_code:\n",
    "                morse += morse_code.get(letter.upper()) + \" \"\n",
    "    \n",
    "    \n",
    "    return morse\n",
    "        \n",
    "# user's message\n",
    "print(conv_morse(input(\"Enter your message: \")))\n",
    "\n",
    "   \n",
    "\n"
   ]
  },
  {
   "cell_type": "code",
   "execution_count": null,
   "id": "fbc26b56",
   "metadata": {},
   "outputs": [],
   "source": []
  },
  {
   "cell_type": "code",
   "execution_count": null,
   "id": "453348fa",
   "metadata": {},
   "outputs": [],
   "source": []
  }
 ],
 "metadata": {
  "kernelspec": {
   "display_name": "Python 3 (ipykernel)",
   "language": "python",
   "name": "python3"
  },
  "language_info": {
   "codemirror_mode": {
    "name": "ipython",
    "version": 3
   },
   "file_extension": ".py",
   "mimetype": "text/x-python",
   "name": "python",
   "nbconvert_exporter": "python",
   "pygments_lexer": "ipython3",
   "version": "3.10.3"
  }
 },
 "nbformat": 4,
 "nbformat_minor": 5
}
